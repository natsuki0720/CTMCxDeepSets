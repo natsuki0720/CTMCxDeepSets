{
 "cells": [
  {
   "cell_type": "code",
   "execution_count": 8,
   "id": "630d6347",
   "metadata": {},
   "outputs": [],
   "source": [
    "# from model_scripts.proto_type.prototype_02.DeepSets_varSet_diagnal import *\n",
    "from model_scripts.diagonal_var_initial_ratio_02.DeepSets_varSet_diagnal import *\n",
    "import torch\n",
    "import random\n",
    "import numpy as np\n",
    "from likelihood import *\n",
    "from torch.utils.data import Dataset, DataLoader\n",
    "from torch import nn\n",
    "import torch.nn.functional as F\n",
    "import torch.optim as optim\n",
    "from data_generator import *\n",
    "from formate_matrix_toMLData import * \n",
    "import os\n",
    "from sklearn.model_selection import train_test_split"
   ]
  },
  {
   "cell_type": "code",
   "execution_count": 9,
   "id": "82e98270",
   "metadata": {},
   "outputs": [],
   "source": [
    "model = torch.load(\"model_scripts\\diagonal_var_initial_ratio_02\\diagonal_var_ratio_inverse.pth\",weights_only=False)\n",
    "torch.save(model.state_dict(), \"resaved_models/lognormal_distribution_delT/model_weights.pth\")"
   ]
  }
 ],
 "metadata": {
  "kernelspec": {
   "display_name": "kisozemi",
   "language": "python",
   "name": "python3"
  },
  "language_info": {
   "codemirror_mode": {
    "name": "ipython",
    "version": 3
   },
   "file_extension": ".py",
   "mimetype": "text/x-python",
   "name": "python",
   "nbconvert_exporter": "python",
   "pygments_lexer": "ipython3",
   "version": "3.11.8"
  }
 },
 "nbformat": 4,
 "nbformat_minor": 5
}
