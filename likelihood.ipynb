{
 "cells": [
  {
   "cell_type": "code",
   "execution_count": 1,
   "metadata": {},
   "outputs": [],
   "source": [
    "import numpy as np\n",
    "from scipy.optimize import minimize\n",
    "from formate_matrix_toMLData import *\n",
    "from data_generator import *\n"
   ]
  },
  {
   "cell_type": "code",
   "execution_count": 65,
   "metadata": {},
   "outputs": [],
   "source": [
    "#データの読み込み\n",
    "file_path = \"data/non_fix_test/var_setSize5000-10000/aa7309_4.csv\"\n",
    "all = np.loadtxt(file_path, delimiter=\",\")\n",
    "mt = matrix_trimer(all)\n",
    "trm = mt.trim_transitionRateMatrix()\n",
    "data = mt.trim_data()\n",
    "fm = formate_dataMatrix()\n",
    "vec = fm.GetOutputVector_byUpperTriangle(trm)\n",
    "rand_vec = np.random.uniform(0,1,6)"
   ]
  },
  {
   "cell_type": "code",
   "execution_count": 66,
   "metadata": {},
   "outputs": [
    {
     "name": "stdout",
     "output_type": "stream",
     "text": [
      "[0.57469355 0.32645837 0.28173407 0.17081867 0.30934934 0.45580292]\n"
     ]
    }
   ],
   "source": [
    "print(rand_vec)"
   ]
  },
  {
   "cell_type": "code",
   "execution_count": 67,
   "metadata": {},
   "outputs": [],
   "source": [
    "#パラメタベクトルから推移率行列の形にするメソッド\n",
    "def vec_to_UpperTriMatrix(vector):\n",
    "    count = 0\n",
    "    i = 1\n",
    "    while count < len(vector):\n",
    "        count += i\n",
    "        i += 1\n",
    "    if(count != len(vector)):\n",
    "        raise IndexError(\"vec length is incorrect!\")\n",
    "    matrix = np.zeros((i,i))\n",
    "    iterator =iter(vector)\n",
    "    for j in range(0,i):\n",
    "        for k in range(j+1, i):\n",
    "            matrix[j][k] = max(0,next(iterator))\n",
    "    for j in range(0,j):\n",
    "        sum = np.sum(matrix[j,:])\n",
    "        matrix[j][j] = -sum\n",
    "    return matrix\n",
    "    \n",
    "#尤度関数の定義\n",
    "def f(x):\n",
    "    \"\"\"_summary_\n",
    "\n",
    "    Args:\n",
    "        x : vector\n",
    "    \"\"\"\n",
    "    sum = 0\n",
    "    Q = vec_to_UpperTriMatrix(x)\n",
    "    for sample in(data):\n",
    "        pm = CalcProbmatrix(Q,sample[2]).calcProbmatrix()\n",
    "        sum -= np.log(pm[int(sample[0])-1][int(sample[1])-1]+1e-6)\n",
    "    return sum\n",
    "        \n",
    "        "
   ]
  },
  {
   "cell_type": "code",
   "execution_count": 68,
   "metadata": {},
   "outputs": [
    {
     "name": "stdout",
     "output_type": "stream",
     "text": [
      "[[-0.61571671  0.1820844   0.13636713  0.29726518]\n",
      " [ 0.         -0.49634038  0.16617261  0.33016777]\n",
      " [ 0.          0.         -0.35669097  0.35669097]\n",
      " [ 0.          0.          0.          0.        ]]\n"
     ]
    }
   ],
   "source": [
    "a = vec_to_UpperTriMatrix(vec)\n",
    "print(a)"
   ]
  },
  {
   "cell_type": "code",
   "execution_count": 69,
   "metadata": {},
   "outputs": [
    {
     "name": "stdout",
     "output_type": "stream",
     "text": [
      "         Current function value: 4533.019918\n",
      "         Iterations: 16\n",
      "         Function evaluations: 691\n",
      "         Gradient evaluations: 97\n"
     ]
    },
    {
     "name": "stderr",
     "output_type": "stream",
     "text": [
      "/opt/anaconda3/envs/kisozemi/lib/python3.11/site-packages/scipy/optimize/_minimize.py:708: OptimizeWarning: Desired error not necessarily achieved due to precision loss.\n",
      "  res = _minimize_bfgs(fun, x0, args, jac, callback, **options)\n"
     ]
    }
   ],
   "source": [
    "result = minimize(f, vec,method='BFGS', options={'gtol': 1e-5, 'maxiter': 10000, 'disp': True})"
   ]
  },
  {
   "cell_type": "code",
   "execution_count": 70,
   "metadata": {},
   "outputs": [
    {
     "name": "stdout",
     "output_type": "stream",
     "text": [
      "最大値のx [0.1567208  0.15250863 0.31513548 0.17289093 0.34543528 0.35281609]\n"
     ]
    }
   ],
   "source": [
    "print(\"最大値のx\",result.x)"
   ]
  }
 ],
 "metadata": {
  "kernelspec": {
   "display_name": "kisozemi",
   "language": "python",
   "name": "python3"
  },
  "language_info": {
   "codemirror_mode": {
    "name": "ipython",
    "version": 3
   },
   "file_extension": ".py",
   "mimetype": "text/x-python",
   "name": "python",
   "nbconvert_exporter": "python",
   "pygments_lexer": "ipython3",
   "version": "3.11.8"
  }
 },
 "nbformat": 4,
 "nbformat_minor": 2
}
