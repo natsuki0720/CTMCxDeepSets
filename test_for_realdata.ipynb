{
 "cells": [
  {
   "cell_type": "code",
   "execution_count": 7,
   "metadata": {},
   "outputs": [],
   "source": [
    "import torch\n",
    "import random\n",
    "import numpy as np\n",
    "from likelihood import *\n",
    "from torch.utils.data import Dataset, DataLoader\n",
    "from torch import nn\n",
    "import torch.nn.functional as F\n",
    "import torch.optim as optim\n",
    "from data_generator import *\n",
    "from formate_matrix_toMLData import * \n",
    "import os\n",
    "# import openpyxl\n",
    "from sklearn.model_selection import train_test_split\n",
    "\n",
    "# from model_scripts.diagonal_var_initial_ratio_02.DeepSets_varSet_diagnal import *\n",
    "from model_scripts.proto_type.prototype_02.DeepSets_varSet_diagnal import *\n",
    "\n",
    "import matplotlib.pyplot as plt\n",
    "import japanize_matplotlib\n",
    "import pandas as pd\n",
    "np.set_printoptions(suppress=True)\n",
    "class max_lifespan_loss(nn.Module):\n",
    "    def forward(self, outputs, targets):\n",
    "         # 安全のため、小さい値を追加してゼロ割りを防止\n",
    "        epsilon = 1e-12\n",
    "        y_pred_inverse = 1.0 / (outputs + epsilon)\n",
    "        y_true_inverse = 1.0 / (targets + epsilon)\n",
    "        \n",
    "        # 逆数の差の絶対値\n",
    "        loss = torch.abs(y_pred_inverse - y_true_inverse).max()\n",
    "        \n",
    "        # 平均損失を計算\n",
    "        return loss\n",
    "criterion = max_lifespan_loss()\n",
    "plt.rcParams[\"font.size\"] = 14  # 全体のフォントサイズ"
   ]
  },
  {
   "cell_type": "code",
   "execution_count": 8,
   "metadata": {},
   "outputs": [],
   "source": [
    "# #ファイルのロード\n",
    "# r = 1.1\n",
    "# df = pd.read_csv(\"real_data/data_DB2021.csv\")\n",
    "# def categorize_pre_state(row, column):\n",
    "#     if row[column]>90:\n",
    "#         return 1\n",
    "#     elif row[column]>80:\n",
    "#         return 2\n",
    "#     elif row[column]>70:\n",
    "#         return 3\n",
    "#     else:\n",
    "#         return 4\n",
    "\n",
    "# df[\"pre_state\"] = df.apply(categorize_pre_state,axis=1,args = (\"BCI1\",))\n",
    "# df[\"post_state\"] = df.apply(categorize_pre_state, axis = 1, args=(\"BCI2\",))\n",
    "# # display(df)\n",
    "# df = df.loc[df[\"Unnamed: 5\"] < 10]\n",
    "# df = df.loc[df[\"pre_state\"] < 4]\n",
    "# df = df[[\"pre_state\",\"post_state\", \"Unnamed: 5\"]]\n",
    "# df.columns = [\"pre\", \"post\", \"time\"]\n",
    "# plt.hist(df[\"time\"], bins=100)\n",
    "# display(df)"
   ]
  },
  {
   "cell_type": "code",
   "execution_count": 9,
   "metadata": {},
   "outputs": [],
   "source": [
    "# # # #国内高速道路床版下面データ\n",
    "# r =2\n",
    "# df = pd.read_csv(\"real_data/shoban.csv\",delimiter=\",\")\n",
    "# df = df[df[\"Ins\"] < 10]\n",
    "# df = df[df[\"Be(1-4)\"] != 4]\n",
    "# df = df[[\"Be(1-4)\",\"Af(1-4)\",\"Ins\"]]\n",
    "# df.columns = [\"pre\", \"post\", \"time\"]\n",
    "# display(df)\n",
    "# # t = {}\n",
    "# # for ins in df[\"Ins\"]:\n",
    "# #     if ins in t:\n",
    "# #         t[ins] +=1\n",
    "# #     else:\n",
    "# #         t[ins] = 1\n",
    "# # t = dict(sorted(t.items()))\n",
    "# # print(t)\n",
    "# plt.hist(df[\"time\"],bins = 20, range=(0,11))"
   ]
  },
  {
   "cell_type": "code",
   "execution_count": 10,
   "metadata": {},
   "outputs": [],
   "source": [
    "# #都市高速道路RC床版\n",
    "# r = 1.2\n",
    "# df = pd.read_csv(\"real_data/Sample.csv\", delimiter=\",\")\n",
    "# # print(df.columns)\n",
    "# df = df[[\"判定2\",\"判定2.1\",\"経過年数\"]]\n",
    "# df = df[df[\"判定2\"]<4]\n",
    "# df.columns = [\"pre\", \"post\",\"time\"]\n",
    "# plt.hist(df[\"経過年数\"],bins=20)\n",
    "# plt.xlabel(\"time\")\n",
    "# plt.ylabel(\"count\")\n",
    "# i = {}\n",
    "# j = {}\n",
    "# for s in df[\"判定2\"]:\n",
    "#     if s not in i:\n",
    "#         i[s] = 1\n",
    "#     else:\n",
    "#         i[s] += 1\n",
    "# for s in df[\"判定2.1\"]:\n",
    "#     if s not in j:\n",
    "#         j[s] = 1\n",
    "#     else:\n",
    "#         j[s] += 1\n",
    "# print(i)\n",
    "# print(j)"
   ]
  },
  {
   "cell_type": "code",
   "execution_count": 11,
   "metadata": {},
   "outputs": [],
   "source": [
    "# #トンネル照明これは使わない\n",
    "# df = pd.read_csv(\"real_data/Tunnel.csv\",delimiter=\",\")\n",
    "# df = df.dropna(subset=[\"事後健全度\"])\n",
    "# df[\"事後健全度\"] = df[\"事後健全度\"].apply(int)\n",
    "# df = df[df[\"検査間隔(年)\"]<12]\n",
    "\n",
    "# df = df[[\"事前健全度\",\"事後健全度\",\"検査間隔(年)\"]]\n",
    "# df.columns = [\"pre\", \"post\", \"time\"]\n",
    "# plt.hist(df[\"time\"],bins=20)\n"
   ]
  },
  {
   "cell_type": "code",
   "execution_count": 12,
   "metadata": {},
   "outputs": [],
   "source": [
    "#正規化処理\n",
    "\n",
    "def log_normalize_to_mean_variance(data, target_mean, target_variance):\n",
    "    # 対数変換\n",
    "    log_data = np.log(data)\n",
    "    # 現在の平均と標準偏差\n",
    "    current_mean = np.mean(log_data)\n",
    "    current_std = np.std(log_data)\n",
    "    \n",
    "    # 標準化 (平均0、分散1)\n",
    "    standardized_data = (log_data - current_mean) / current_std\n",
    "    \n",
    "    # 新しい平均と分散に変換\n",
    "    new_mean = target_mean\n",
    "    new_std = np.sqrt(target_variance)\n",
    "    transformed_data = standardized_data * new_std + new_mean\n",
    "    log_normal_data = np.exp(transformed_data)\n",
    "    return log_normal_data, current_mean, current_std, new_mean, new_std\n",
    "\n",
    "# 逆変換関数\n",
    "def log_denormalize_to_original(log_normal_data, current_mean, current_std, new_mean, new_std):\n",
    "    # 対数正規分布の値を対数変換\n",
    "    transformed_data = np.log(log_normal_data)\n",
    "    # 標準化を元に戻す\n",
    "    standardized_data = (transformed_data - new_mean) / new_std\n",
    "    log_data = standardized_data * current_std + current_mean\n",
    "    # 指数変換で元のスケールに戻す\n",
    "    original_data = np.exp(log_data)\n",
    "    return original_data\n",
    "\n",
    "# target_mean = 1\n",
    "# target_variance = 0.5\n",
    "# df[\"normalized_t\"], current_mean, current_std, new_mean, new_std = log_normalize_to_mean_variance(\n",
    "#     df[\"Unnamed: 5\"], target_mean, target_variance\n",
    "# )\n",
    "# print(current_mean,current_std)\n",
    "# plt.hist(df[\"normalized_t\"],bins=20, range=(0,10))"
   ]
  },
  {
   "cell_type": "code",
   "execution_count": 13,
   "metadata": {},
   "outputs": [],
   "source": [
    "# # ガーナ道路\n",
    "# r = 3.5\n",
    "# df = pd.read_csv(\"real_data/Frank.csv\",delimiter=\",\")\n",
    "# df[\"time\"] = df[\"Inspection Time of PostState IRI\"] - df[\"Inspection Time of Prestate\"]\n",
    "# df[\"time sneff\"] = df[\"Inspection Post time for Sneff\"] - df[\"Inspection Time of Prestate\"]\n",
    "# print(df.columns)\n",
    "# df = df[[\"Pre-State IRI\", \"Post-State IRI\",\"time\"]]\n",
    "# post_conditions = [\n",
    "#     df[\"Post-State IRI\"] <= 1.5,\n",
    "#     (df[\"Post-State IRI\"] > 1.5) & (df[\"Post-State IRI\"] <= 2.5),\n",
    "#     (df[\"Post-State IRI\"] > 2.5) & (df[\"Post-State IRI\"] <= 3.5),\n",
    "#     df[\"Post-State IRI\"] > 3.5\n",
    "# ]\n",
    "# pre_conditions = [\n",
    "#     df[\"Pre-State IRI\"] <= 1.5,\n",
    "#     (df[\"Pre-State IRI\"] > 1.5) & (df[\"Pre-State IRI\"] <= 2.5),\n",
    "#     (df[\"Pre-State IRI\"] > 2.5) & (df[\"Pre-State IRI\"] <= 3.5),\n",
    "#     df[\"Pre-State IRI\"] > 3.5\n",
    "# ]\n",
    "# choices = [1,2,3,4]\n",
    "# df[\"pre\"] = np.select(pre_conditions, choices )\n",
    "# df[\"post\"] = np.select(post_conditions, choices)\n",
    "# df = df[[\"pre\",\"post\", \"time\"]]\n",
    "# display(df)\n",
    "# plt.hist(df[\"time\"])\n",
    "# plt.xlabel(\"点検間隔（年）\")\n",
    "# plt.ylabel(\"頻度\")\n",
    "# # plt.title(\"ガーナの道路舗装の点検間隔の分布\")\n"
   ]
  },
  {
   "cell_type": "code",
   "execution_count": 14,
   "metadata": {},
   "outputs": [
    {
     "name": "stdout",
     "output_type": "stream",
     "text": [
      "5360\n"
     ]
    },
    {
     "data": {
      "image/png": "[encoded data removed]",
      "text/plain": [
       "<Figure size 640x480 with 1 Axes>"
      ]
     },
     "metadata": {},
     "output_type": "display_data"
    }
   ],
   "source": [
    "# # #なんかのRC r = 1.79がベスト\n",
    "r = 1.5\n",
    "df = pd.read_csv(\"real_data/data.csv\",delimiter=\",\", header=None)\n",
    "df.columns = [\"pre\", \"post\", \"time\"]\n",
    "df = df[df[\"pre\"]<4]\n",
    "df = df[df[\"post\"] < 5]\n",
    "# df = df[df[\"time\"] < 3]\n",
    "# df[\"normalized\"] = log_normalize_to_mean_variance(df[\"time\"],0.42,5)[0]\n",
    "# df = df[df[\"normalized\"] > 0.1]\n",
    "df = df[df[\"time\"] > 0.1]\n",
    "# df[\"time\"] = df[\"time\"]/2.5\n",
    "plt.hist(df[\"time\"],bins=10)\n",
    "plt.xlabel(\"点検間隔（年）\")\n",
    "plt.ylabel(\"頻度\")\n",
    "# plt.title(\"橋梁RC床版の点検間隔の分布\")\n",
    "print(len(df))"
   ]
  },
  {
   "cell_type": "code",
   "execution_count": 15,
   "metadata": {},
   "outputs": [],
   "source": [
    "# # # 水道管 12.3が良さそう\n",
    "# # r = 12.3\n",
    "# r = 12\n",
    "\n",
    "# df = pd.read_csv(\"real_data/suidou.csv\",delimiter=\",\")\n",
    "# df = df[[\"建設時健全度（1と仮定）\",\"調査時健全度\",\"経過年数\"]]\n",
    "# df.columns = [\"pre\", \"post\", \"time\"]\n",
    "# plt.hist(df[\"time\"],bins=10)\n",
    "# plt.xlabel(\"点検間隔（年）\")\n",
    "# plt.ylabel(\"頻度\")\n",
    "# # plt.title(\"水道管の点検間隔の分布\")\n",
    "# print(len(df))"
   ]
  },
  {
   "cell_type": "code",
   "execution_count": 16,
   "metadata": {},
   "outputs": [],
   "source": [
    "state = np.array([df[\"pre\"], df[\"post\"]])\n",
    "# del_t = np.array(df[\"normalized\"])\n",
    "del_t = np.array(df[\"time\"]/r)\n",
    "# del_t2 = np.array(df[\"Unnamed: 5\"])"
   ]
  },
  {
   "cell_type": "code",
   "execution_count": 17,
   "metadata": {},
   "outputs": [],
   "source": [
    "# print(\"by 最尤:\",expected[9][0]*(10.5+0.1*10))\n",
    "# print(\"by AI:\",predict[9][0]*(10.5 + 0.1*10))"
   ]
  },
  {
   "cell_type": "code",
   "execution_count": 18,
   "metadata": {},
   "outputs": [
    {
     "name": "stdout",
     "output_type": "stream",
     "text": [
      "[[2.         2.         3.43744292]\n",
      " [2.         2.         3.20547945]\n",
      " [2.         2.         3.34611872]\n",
      " ...\n",
      " [1.         1.         0.47853881]\n",
      " [1.         1.         2.39452055]\n",
      " [1.         1.         0.87671233]]\n"
     ]
    }
   ],
   "source": [
    "# X_train, X_test, y_train, y_test = train_test_split(state.T, del_t.T, test_size=0.8, random_state=40)\n",
    "data = np.column_stack((state.T,del_t.T))\n",
    "print(data)\n",
    "ll = Likelihood_diagonal_exp(data)\n",
    "Q = ll.optimize(np.array([-0.5,-1,-1.5]))\n",
    "formater = formate_dataMatrix()\n",
    "vec = formater.GetOutputVector_byDiagonal(Q)"
   ]
  },
  {
   "cell_type": "code",
   "execution_count": 19,
   "metadata": {},
   "outputs": [
    {
     "name": "stdout",
     "output_type": "stream",
     "text": [
      "{1.0: 2593, 2.0: 2653, 3.0: 114}\n",
      "{1.0: 1637, 2.0: 3319, 3.0: 372, 4.0: 32}\n"
     ]
    }
   ],
   "source": [
    "d = {}\n",
    "e = {}\n",
    "for l in data:\n",
    "    if l[0] not in d:\n",
    "        d[l[0]] = 1\n",
    "    else:\n",
    "        d[l[0]] += 1\n",
    "\n",
    "for l in data:\n",
    "    if l[1] not in e:\n",
    "        e[l[1]] = 1\n",
    "    else:\n",
    "        e[l[1]] += 1\n",
    "print(dict(sorted(d.items())))\n",
    "print(dict(sorted(e.items())))"
   ]
  },
  {
   "cell_type": "code",
   "execution_count": 20,
   "metadata": {},
   "outputs": [
    {
     "name": "stdout",
     "output_type": "stream",
     "text": [
      "[[-0.13021993  0.13021993  0.          0.        ]\n",
      " [ 0.         -0.02727598  0.02727598  0.        ]\n",
      " [ 0.          0.         -0.04016481  0.04016481]\n",
      " [ 0.          0.          0.          0.        ]]\n"
     ]
    }
   ],
   "source": [
    "print(Q)"
   ]
  },
  {
   "cell_type": "code",
   "execution_count": 21,
   "metadata": {},
   "outputs": [],
   "source": [
    "dataset = varSets_Datasets([state],[del_t], [vec])\n",
    "dataloader = DataLoader(dataset, batch_size=1,shuffle=False,collate_fn=collate_fn)\n"
   ]
  },
  {
   "cell_type": "code",
   "execution_count": 22,
   "metadata": {},
   "outputs": [],
   "source": [
    "class max_lifespan_loss(nn.Module):\n",
    "    def forward(self, outputs, targets):\n",
    "         # 安全のため、小さい値を追加してゼロ割りを防止\n",
    "        epsilon = 1e-12\n",
    "        y_pred_inverse = 1.0 / (outputs + epsilon)\n",
    "        y_true_inverse = 1.0 / (targets + epsilon)\n",
    "        \n",
    "        # 逆数の差の絶対値\n",
    "        loss = torch.abs(y_pred_inverse - y_true_inverse).max()\n",
    "        \n",
    "        # 平均損失を計算\n",
    "        return loss\n",
    "criterion = max_lifespan_loss()"
   ]
  },
  {
   "cell_type": "code",
   "execution_count": 23,
   "metadata": {},
   "outputs": [
    {
     "name": "stdout",
     "output_type": "stream",
     "text": [
      "output is tensor([[0.1487, 0.0317, 0.0269]])\n",
      "target is tensor([[0.1302, 0.0273, 0.0402]])\n",
      "12.316019058227539\n"
     ]
    }
   ],
   "source": [
    "model = torch.load(\"model_scripts\\proto_type\\prototype_02\\diagonal_prototype_02_BigDataSet02.pth\",weights_only=False)\n",
    "model.eval()\n",
    "pred = []\n",
    "expect = []\n",
    "for a, b, c,d in dataloader:\n",
    "    with torch.no_grad():\n",
    "        out = model(a, b, d)\n",
    "        loss = criterion(out,c).item()\n",
    "        pred = 1/out\n",
    "        expect = 1/c    \n",
    "    print(f\"output is {out}\")\n",
    "    print(f\"target is {c}\")\n",
    "    print(loss)\n"
   ]
  },
  {
   "cell_type": "code",
   "execution_count": 24,
   "metadata": {},
   "outputs": [
    {
     "name": "stdout",
     "output_type": "stream",
     "text": [
      "tensor([[10.0905, 47.3609, 55.8202]]) tensor([[11.5190, 54.9935, 37.3461]])\n"
     ]
    }
   ],
   "source": [
    "print(pred*r,expect*r)"
   ]
  },
  {
   "cell_type": "code",
   "execution_count": 25,
   "metadata": {},
   "outputs": [
    {
     "name": "stdout",
     "output_type": "stream",
     "text": [
      "代理モデルによる劣化推移予測\n"
     ]
    },
    {
     "data": {
      "image/png": "[encoded data removed]",
      "text/plain": [
       "<Figure size 800x500 with 1 Axes>"
      ]
     },
     "metadata": {},
     "output_type": "display_data"
    },
    {
     "name": "stdout",
     "output_type": "stream",
     "text": [
      "---------------------------\n"
     ]
    }
   ],
   "source": [
    "from scipy.linalg import expm\n",
    "# colors = ['blue', 'yellow', 'purple', 'red']\n",
    "colors = ['#1f77b4', '#ff7f0e', '#2ca02c', '#d62728']\n",
    "# colors = ['#264653', '#2a9d8f', '#e9c46a', '#f4a261']  #落ち着いた感じ\n",
    "# colors = ['#1b9e77', '#d95f02', '#7570b3', '#e7298a'] #見やすいやつ\n",
    "colors = ['#4e79a7', '#f4d03f', '#e67e22', '#c0392b'] #順序\n",
    "colors = ['#4e79a7', '#76b041', '#e67e22', '#c0392b'] #冷暖色\n",
    "colors= ['#6b89a9', '#8ea978', '#d69c6a', '#a55a5b'] #彩度下げ冷暖色\n",
    "# colors= ['#add8e6', '#ffeb3b', '#ff9800', '#f44336'] #グラデーション\n",
    "plt.rcParams[\"figure.figsize\"] = (8, 5)\n",
    "\n",
    "sequence = np.arange(0, 100, 0.01)\n",
    "def visualize(Q,title):\n",
    "    vecs = []\n",
    "    for t in sequence:\n",
    "        P = expm(Q * t)\n",
    "        vecs.append(P[0])\n",
    "    \n",
    "    for i, vec in enumerate(vecs):\n",
    "        bottom = 0\n",
    "        # vec = vec[::-1]\n",
    "    \n",
    "        for j, value in enumerate(vec):\n",
    "            plt.bar(sequence[i], value, bottom=bottom, color=colors[j],width=0.01)\n",
    "            bottom += value\n",
    "    for i in range(len(colors)):\n",
    "        plt.scatter([],[], color = colors[i],label = f\"Condition state {i+1}\")\n",
    "    vecs = np.array(vecs)\n",
    "    \n",
    "    plot_trueline(c[0])\n",
    "    plt.tick_params(axis='x', labelsize=14, direction='in', length=10)\n",
    "    plt.tick_params(axis='y', labelsize=14, direction='in', length=10)\n",
    "    plt.xlabel(\"Elapsed time (year)\", fontsize = 22)\n",
    "    plt.ylabel(\"Ratio\", fontsize = 22)\n",
    "    # plt.title(title, fontsize = 18)\n",
    "    plt.legend(loc = \"lower left\")\n",
    "    plt.show()\n",
    "    \n",
    "def generate_Q_from_diagonal(vec):\n",
    "        Q = np.zeros((4,4))\n",
    "        for i in range(len(vec)):\n",
    "            Q[i,i+1]= vec[i]\n",
    "            Q[i,i] = -Q[i,i+1]\n",
    "        return Q\n",
    "def plot_trueline(vec):\n",
    "    true_vecs = []\n",
    "    true_Q = generate_Q_from_diagonal(vec/r)\n",
    "    for t in sequence:\n",
    "        P = expm(true_Q * t)\n",
    "        true_vecs.append(P[0])\n",
    "    true_vecs = np.array(true_vecs)\n",
    "    \n",
    "    plt.plot(sequence,true_vecs[:,0],linestyle = \"--\",color = \"black\",lw = 4)\n",
    "    plt.plot(sequence,true_vecs[:,0]+true_vecs[:,1],linestyle = \"-.\",color = \"black\",lw = 4)\n",
    "    plt.plot(sequence,true_vecs[:,0]+true_vecs[:,1]+true_vecs[:,2],linestyle = \":\",color = \"black\",lw = 4)\n",
    "    \n",
    "\n",
    "print(\"代理モデルによる劣化推移予測\")\n",
    "visualize(generate_Q_from_diagonal(out[0]/r),\"代理モデルによる劣化推移予測\")\n",
    "print(\"---------------------------\")\n",
    "# print(\"最尤推定による劣化推移予測\")\n",
    "# visualize(generate_Q_from_diagonal(c[0]/r), \"最尤推定による劣化推移予測\")"
   ]
  }
 ],
 "metadata": {
  "kernelspec": {
   "display_name": "kisozemi",
   "language": "python",
   "name": "python3"
  },
  "language_info": {
   "codemirror_mode": {
    "name": "ipython",
    "version": 3
   },
   "file_extension": ".py",
   "mimetype": "text/x-python",
   "name": "python",
   "nbconvert_exporter": "python",
   "pygments_lexer": "ipython3",
   "version": "3.11.8"
  }
 },
 "nbformat": 4,
 "nbformat_minor": 2
}
